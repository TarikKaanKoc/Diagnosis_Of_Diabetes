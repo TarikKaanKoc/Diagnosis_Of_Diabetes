{
 "cells": [
  {
   "cell_type": "markdown",
   "id": "2ec7c4d8-b8f4-4f1a-b2a0-f537193fb01e",
   "metadata": {},
   "source": [
    "#### Sevgili bağlantılarım,\n",
    "---\n",
    " * Öncelikle bu proje sürecinde K-Nearest Neighbors (K-En yakın komşu) algoritması ile ilgili literatür taraması yapılarak çalışmaya başlanmış ve elde edilen bulgular sentezlenerek entegre biçimde proje içerisinde kullanılmıştır. Veri setlerinin %50'si makine öğrenmesi modeli train data olarak için kullanılmış, geriye kalan %50 veri ise test data olarak kullanılmıştır. %50 Train veri ile test sonucunda %75 doğruluk oranı elde edilmiştir. (7-En Yakın Komşu için)... Proje içerisinde aşama aşama yorum satırları eklenmiştir. Yararlı bir çalışma olması dileğiyle... \n",
    " \n",
    " Herkese iyi çalışmalar, kolaylıklar dilerim...\n",
    " \n",
    "**Tarık Kaan Koç**\n",
    "\n",
    "**Linkedin:** https://www.linkedin.com/in/tarikkaankoc/"
   ]
  },
  {
   "cell_type": "markdown",
   "id": "ea4cac40-96d8-4739-b3a9-c364b77dd75c",
   "metadata": {},
   "source": [
    "## Şeker Hastalığı Teşhisi Projesi\n",
    "\n",
    "---\n",
    "### Kullanılan Veri Seti Hakkında: \n",
    "\n",
    "* Kullanılan veri seti kaggle.com platformundan alınmıştır. Veri setinin amacı, veri setinde yer alan belirli tanısal ölçümlere dayanarak bir hastanın diyabetli olup, olmadığını tanısal olarak tahmin etmektir. Veri setinde bulunan veriler hindistanda bulunan 5 farklı hastaneden alınmıştır. Tam olarak 768 pima kızılderili mirasına sahip ve en az 21 yaşından oluşan kadınlardan oluşmaktadır. \n",
    "\n"
   ]
  },
  {
   "cell_type": "markdown",
   "id": "0b0394ef-432b-4c67-a00e-d1bd8c03651a",
   "metadata": {},
   "source": [
    "---"
   ]
  },
  {
   "cell_type": "code",
   "execution_count": 154,
   "id": "a17d13af-6142-4a57-96b2-955758ee732a",
   "metadata": {},
   "outputs": [],
   "source": [
    "import numpy as np\n",
    "import pandas as pd\n",
    "import seaborn as sns\n",
    "from sklearn.model_selection import train_test_split\n",
    "from sklearn.neighbors import KNeighborsClassifier"
   ]
  },
  {
   "cell_type": "code",
   "execution_count": 18,
   "id": "7a8251c2-7a5e-4ad2-ae6d-f1a1e02674ba",
   "metadata": {},
   "outputs": [
    {
     "data": {
      "text/html": [
       "<div>\n",
       "<style scoped>\n",
       "    .dataframe tbody tr th:only-of-type {\n",
       "        vertical-align: middle;\n",
       "    }\n",
       "\n",
       "    .dataframe tbody tr th {\n",
       "        vertical-align: top;\n",
       "    }\n",
       "\n",
       "    .dataframe thead th {\n",
       "        text-align: right;\n",
       "    }\n",
       "</style>\n",
       "<table border=\"1\" class=\"dataframe\">\n",
       "  <thead>\n",
       "    <tr style=\"text-align: right;\">\n",
       "      <th></th>\n",
       "      <th>Pregnancies</th>\n",
       "      <th>Glucose</th>\n",
       "      <th>BloodPressure</th>\n",
       "      <th>SkinThickness</th>\n",
       "      <th>Insulin</th>\n",
       "      <th>BMI</th>\n",
       "      <th>DiabetesPedigreeFunction</th>\n",
       "      <th>Age</th>\n",
       "      <th>Outcome</th>\n",
       "    </tr>\n",
       "  </thead>\n",
       "  <tbody>\n",
       "    <tr>\n",
       "      <th>0</th>\n",
       "      <td>6</td>\n",
       "      <td>148</td>\n",
       "      <td>72</td>\n",
       "      <td>35</td>\n",
       "      <td>0</td>\n",
       "      <td>33.6</td>\n",
       "      <td>0.627</td>\n",
       "      <td>50</td>\n",
       "      <td>1</td>\n",
       "    </tr>\n",
       "    <tr>\n",
       "      <th>1</th>\n",
       "      <td>1</td>\n",
       "      <td>85</td>\n",
       "      <td>66</td>\n",
       "      <td>29</td>\n",
       "      <td>0</td>\n",
       "      <td>26.6</td>\n",
       "      <td>0.351</td>\n",
       "      <td>31</td>\n",
       "      <td>0</td>\n",
       "    </tr>\n",
       "    <tr>\n",
       "      <th>2</th>\n",
       "      <td>8</td>\n",
       "      <td>183</td>\n",
       "      <td>64</td>\n",
       "      <td>0</td>\n",
       "      <td>0</td>\n",
       "      <td>23.3</td>\n",
       "      <td>0.672</td>\n",
       "      <td>32</td>\n",
       "      <td>1</td>\n",
       "    </tr>\n",
       "    <tr>\n",
       "      <th>3</th>\n",
       "      <td>1</td>\n",
       "      <td>89</td>\n",
       "      <td>66</td>\n",
       "      <td>23</td>\n",
       "      <td>94</td>\n",
       "      <td>28.1</td>\n",
       "      <td>0.167</td>\n",
       "      <td>21</td>\n",
       "      <td>0</td>\n",
       "    </tr>\n",
       "    <tr>\n",
       "      <th>4</th>\n",
       "      <td>0</td>\n",
       "      <td>137</td>\n",
       "      <td>40</td>\n",
       "      <td>35</td>\n",
       "      <td>168</td>\n",
       "      <td>43.1</td>\n",
       "      <td>2.288</td>\n",
       "      <td>33</td>\n",
       "      <td>1</td>\n",
       "    </tr>\n",
       "    <tr>\n",
       "      <th>...</th>\n",
       "      <td>...</td>\n",
       "      <td>...</td>\n",
       "      <td>...</td>\n",
       "      <td>...</td>\n",
       "      <td>...</td>\n",
       "      <td>...</td>\n",
       "      <td>...</td>\n",
       "      <td>...</td>\n",
       "      <td>...</td>\n",
       "    </tr>\n",
       "    <tr>\n",
       "      <th>763</th>\n",
       "      <td>10</td>\n",
       "      <td>101</td>\n",
       "      <td>76</td>\n",
       "      <td>48</td>\n",
       "      <td>180</td>\n",
       "      <td>32.9</td>\n",
       "      <td>0.171</td>\n",
       "      <td>63</td>\n",
       "      <td>0</td>\n",
       "    </tr>\n",
       "    <tr>\n",
       "      <th>764</th>\n",
       "      <td>2</td>\n",
       "      <td>122</td>\n",
       "      <td>70</td>\n",
       "      <td>27</td>\n",
       "      <td>0</td>\n",
       "      <td>36.8</td>\n",
       "      <td>0.340</td>\n",
       "      <td>27</td>\n",
       "      <td>0</td>\n",
       "    </tr>\n",
       "    <tr>\n",
       "      <th>765</th>\n",
       "      <td>5</td>\n",
       "      <td>121</td>\n",
       "      <td>72</td>\n",
       "      <td>23</td>\n",
       "      <td>112</td>\n",
       "      <td>26.2</td>\n",
       "      <td>0.245</td>\n",
       "      <td>30</td>\n",
       "      <td>0</td>\n",
       "    </tr>\n",
       "    <tr>\n",
       "      <th>766</th>\n",
       "      <td>1</td>\n",
       "      <td>126</td>\n",
       "      <td>60</td>\n",
       "      <td>0</td>\n",
       "      <td>0</td>\n",
       "      <td>30.1</td>\n",
       "      <td>0.349</td>\n",
       "      <td>47</td>\n",
       "      <td>1</td>\n",
       "    </tr>\n",
       "    <tr>\n",
       "      <th>767</th>\n",
       "      <td>1</td>\n",
       "      <td>93</td>\n",
       "      <td>70</td>\n",
       "      <td>31</td>\n",
       "      <td>0</td>\n",
       "      <td>30.4</td>\n",
       "      <td>0.315</td>\n",
       "      <td>23</td>\n",
       "      <td>0</td>\n",
       "    </tr>\n",
       "  </tbody>\n",
       "</table>\n",
       "<p>768 rows × 9 columns</p>\n",
       "</div>"
      ],
      "text/plain": [
       "     Pregnancies  Glucose  BloodPressure  SkinThickness  Insulin   BMI  \\\n",
       "0              6      148             72             35        0  33.6   \n",
       "1              1       85             66             29        0  26.6   \n",
       "2              8      183             64              0        0  23.3   \n",
       "3              1       89             66             23       94  28.1   \n",
       "4              0      137             40             35      168  43.1   \n",
       "..           ...      ...            ...            ...      ...   ...   \n",
       "763           10      101             76             48      180  32.9   \n",
       "764            2      122             70             27        0  36.8   \n",
       "765            5      121             72             23      112  26.2   \n",
       "766            1      126             60              0        0  30.1   \n",
       "767            1       93             70             31        0  30.4   \n",
       "\n",
       "     DiabetesPedigreeFunction  Age  Outcome  \n",
       "0                       0.627   50        1  \n",
       "1                       0.351   31        0  \n",
       "2                       0.672   32        1  \n",
       "3                       0.167   21        0  \n",
       "4                       2.288   33        1  \n",
       "..                        ...  ...      ...  \n",
       "763                     0.171   63        0  \n",
       "764                     0.340   27        0  \n",
       "765                     0.245   30        0  \n",
       "766                     0.349   47        1  \n",
       "767                     0.315   23        0  \n",
       "\n",
       "[768 rows x 9 columns]"
      ]
     },
     "execution_count": 18,
     "metadata": {},
     "output_type": "execute_result"
    }
   ],
   "source": [
    "# STEP-1 : Veri setini okumak\n",
    "df = pd.read_csv(\"diabetes.csv\")\n",
    "df"
   ]
  },
  {
   "cell_type": "code",
   "execution_count": 21,
   "id": "0d13c59d-89ec-4536-b775-c1f9c2459190",
   "metadata": {},
   "outputs": [
    {
     "name": "stdout",
     "output_type": "stream",
     "text": [
      "<class 'pandas.core.frame.DataFrame'>\n",
      "RangeIndex: 768 entries, 0 to 767\n",
      "Data columns (total 9 columns):\n",
      " #   Column                    Non-Null Count  Dtype  \n",
      "---  ------                    --------------  -----  \n",
      " 0   Pregnancies               768 non-null    int64  \n",
      " 1   Glucose                   768 non-null    int64  \n",
      " 2   BloodPressure             768 non-null    int64  \n",
      " 3   SkinThickness             768 non-null    int64  \n",
      " 4   Insulin                   768 non-null    int64  \n",
      " 5   BMI                       768 non-null    float64\n",
      " 6   DiabetesPedigreeFunction  768 non-null    float64\n",
      " 7   Age                       768 non-null    int64  \n",
      " 8   Outcome                   768 non-null    int64  \n",
      "dtypes: float64(2), int64(7)\n",
      "memory usage: 54.1 KB\n"
     ]
    }
   ],
   "source": [
    "df.info()"
   ]
  },
  {
   "cell_type": "code",
   "execution_count": 39,
   "id": "1d2e8fb9-42dd-44b1-8bd0-30a183db8a6a",
   "metadata": {},
   "outputs": [
    {
     "data": {
      "text/html": [
       "<div>\n",
       "<style scoped>\n",
       "    .dataframe tbody tr th:only-of-type {\n",
       "        vertical-align: middle;\n",
       "    }\n",
       "\n",
       "    .dataframe tbody tr th {\n",
       "        vertical-align: top;\n",
       "    }\n",
       "\n",
       "    .dataframe thead th {\n",
       "        text-align: right;\n",
       "    }\n",
       "</style>\n",
       "<table border=\"1\" class=\"dataframe\">\n",
       "  <thead>\n",
       "    <tr style=\"text-align: right;\">\n",
       "      <th></th>\n",
       "      <th>Pregnancies</th>\n",
       "      <th>Glucose</th>\n",
       "      <th>BloodPressure</th>\n",
       "      <th>SkinThickness</th>\n",
       "      <th>Insulin</th>\n",
       "      <th>BMI</th>\n",
       "      <th>DiabetesPedigreeFunction</th>\n",
       "      <th>Age</th>\n",
       "      <th>Outcome</th>\n",
       "    </tr>\n",
       "  </thead>\n",
       "  <tbody>\n",
       "  </tbody>\n",
       "</table>\n",
       "</div>"
      ],
      "text/plain": [
       "Empty DataFrame\n",
       "Columns: [Pregnancies, Glucose, BloodPressure, SkinThickness, Insulin, BMI, DiabetesPedigreeFunction, Age, Outcome]\n",
       "Index: []"
      ]
     },
     "execution_count": 39,
     "metadata": {},
     "output_type": "execute_result"
    }
   ],
   "source": [
    "# Step-2 : Gözlemlendiği üzere 21 yaşından küçük yaşta olan bir vakamız (verimiz) bulunmuyor... (Burada: Masking, Logic Boolean işlemi uygulanmıştır.)\n",
    "df[df.Age < 21]"
   ]
  },
  {
   "cell_type": "markdown",
   "id": "4f135c5d-b5c6-41ae-a94d-5341d0827a90",
   "metadata": {},
   "source": [
    "## STEP-3: Outlier Tespiti & Filtreleme: \n",
    "---\n",
    "* **Bilmeyenler için kısa bir tanım:** Outiller, Bir veriseti içerisindeki diğer gözlemlerden aykırı ve sapan gözlem veya veri değeridir.\n",
    "* Burada aykırı değerleri tespit edip, masking (Boolean logic) işlemi ile yeni temiz veri setimizi \"df1\" = değişkenine atıyoruz (Assign).\n",
    "* Aykırı değerlerin tespiti için guloköz sütunu tercih edilmiştir. Çünkü: Yüksek glikoz seviyeleri (hiperglisemi) ise kalp hastalığı, körlük, böbrek yetmezliği gibi komplikasyonlara neden olabilen diyabetin (şeker hastalığının) belirtisi olabilir. (En önemli değerlendirme kriterimiz.)\n"
   ]
  },
  {
   "cell_type": "code",
   "execution_count": 40,
   "id": "ec866046-8fd9-47a0-98ab-f1c054b5f5d7",
   "metadata": {},
   "outputs": [
    {
     "data": {
      "text/html": [
       "<div>\n",
       "<style scoped>\n",
       "    .dataframe tbody tr th:only-of-type {\n",
       "        vertical-align: middle;\n",
       "    }\n",
       "\n",
       "    .dataframe tbody tr th {\n",
       "        vertical-align: top;\n",
       "    }\n",
       "\n",
       "    .dataframe thead th {\n",
       "        text-align: right;\n",
       "    }\n",
       "</style>\n",
       "<table border=\"1\" class=\"dataframe\">\n",
       "  <thead>\n",
       "    <tr style=\"text-align: right;\">\n",
       "      <th></th>\n",
       "      <th>Pregnancies</th>\n",
       "      <th>Glucose</th>\n",
       "      <th>BloodPressure</th>\n",
       "      <th>SkinThickness</th>\n",
       "      <th>Insulin</th>\n",
       "      <th>BMI</th>\n",
       "      <th>DiabetesPedigreeFunction</th>\n",
       "      <th>Age</th>\n",
       "      <th>Outcome</th>\n",
       "    </tr>\n",
       "  </thead>\n",
       "  <tbody>\n",
       "    <tr>\n",
       "      <th>count</th>\n",
       "      <td>768.000000</td>\n",
       "      <td>768.000000</td>\n",
       "      <td>768.000000</td>\n",
       "      <td>768.000000</td>\n",
       "      <td>768.000000</td>\n",
       "      <td>768.000000</td>\n",
       "      <td>768.000000</td>\n",
       "      <td>768.000000</td>\n",
       "      <td>768.000000</td>\n",
       "    </tr>\n",
       "    <tr>\n",
       "      <th>mean</th>\n",
       "      <td>3.845052</td>\n",
       "      <td>120.894531</td>\n",
       "      <td>69.105469</td>\n",
       "      <td>20.536458</td>\n",
       "      <td>79.799479</td>\n",
       "      <td>31.992578</td>\n",
       "      <td>0.471876</td>\n",
       "      <td>33.240885</td>\n",
       "      <td>0.348958</td>\n",
       "    </tr>\n",
       "    <tr>\n",
       "      <th>std</th>\n",
       "      <td>3.369578</td>\n",
       "      <td>31.972618</td>\n",
       "      <td>19.355807</td>\n",
       "      <td>15.952218</td>\n",
       "      <td>115.244002</td>\n",
       "      <td>7.884160</td>\n",
       "      <td>0.331329</td>\n",
       "      <td>11.760232</td>\n",
       "      <td>0.476951</td>\n",
       "    </tr>\n",
       "    <tr>\n",
       "      <th>min</th>\n",
       "      <td>0.000000</td>\n",
       "      <td>0.000000</td>\n",
       "      <td>0.000000</td>\n",
       "      <td>0.000000</td>\n",
       "      <td>0.000000</td>\n",
       "      <td>0.000000</td>\n",
       "      <td>0.078000</td>\n",
       "      <td>21.000000</td>\n",
       "      <td>0.000000</td>\n",
       "    </tr>\n",
       "    <tr>\n",
       "      <th>25%</th>\n",
       "      <td>1.000000</td>\n",
       "      <td>99.000000</td>\n",
       "      <td>62.000000</td>\n",
       "      <td>0.000000</td>\n",
       "      <td>0.000000</td>\n",
       "      <td>27.300000</td>\n",
       "      <td>0.243750</td>\n",
       "      <td>24.000000</td>\n",
       "      <td>0.000000</td>\n",
       "    </tr>\n",
       "    <tr>\n",
       "      <th>50%</th>\n",
       "      <td>3.000000</td>\n",
       "      <td>117.000000</td>\n",
       "      <td>72.000000</td>\n",
       "      <td>23.000000</td>\n",
       "      <td>30.500000</td>\n",
       "      <td>32.000000</td>\n",
       "      <td>0.372500</td>\n",
       "      <td>29.000000</td>\n",
       "      <td>0.000000</td>\n",
       "    </tr>\n",
       "    <tr>\n",
       "      <th>75%</th>\n",
       "      <td>6.000000</td>\n",
       "      <td>140.250000</td>\n",
       "      <td>80.000000</td>\n",
       "      <td>32.000000</td>\n",
       "      <td>127.250000</td>\n",
       "      <td>36.600000</td>\n",
       "      <td>0.626250</td>\n",
       "      <td>41.000000</td>\n",
       "      <td>1.000000</td>\n",
       "    </tr>\n",
       "    <tr>\n",
       "      <th>max</th>\n",
       "      <td>17.000000</td>\n",
       "      <td>199.000000</td>\n",
       "      <td>122.000000</td>\n",
       "      <td>99.000000</td>\n",
       "      <td>846.000000</td>\n",
       "      <td>67.100000</td>\n",
       "      <td>2.420000</td>\n",
       "      <td>81.000000</td>\n",
       "      <td>1.000000</td>\n",
       "    </tr>\n",
       "  </tbody>\n",
       "</table>\n",
       "</div>"
      ],
      "text/plain": [
       "       Pregnancies     Glucose  BloodPressure  SkinThickness     Insulin  \\\n",
       "count   768.000000  768.000000     768.000000     768.000000  768.000000   \n",
       "mean      3.845052  120.894531      69.105469      20.536458   79.799479   \n",
       "std       3.369578   31.972618      19.355807      15.952218  115.244002   \n",
       "min       0.000000    0.000000       0.000000       0.000000    0.000000   \n",
       "25%       1.000000   99.000000      62.000000       0.000000    0.000000   \n",
       "50%       3.000000  117.000000      72.000000      23.000000   30.500000   \n",
       "75%       6.000000  140.250000      80.000000      32.000000  127.250000   \n",
       "max      17.000000  199.000000     122.000000      99.000000  846.000000   \n",
       "\n",
       "              BMI  DiabetesPedigreeFunction         Age     Outcome  \n",
       "count  768.000000                768.000000  768.000000  768.000000  \n",
       "mean    31.992578                  0.471876   33.240885    0.348958  \n",
       "std      7.884160                  0.331329   11.760232    0.476951  \n",
       "min      0.000000                  0.078000   21.000000    0.000000  \n",
       "25%     27.300000                  0.243750   24.000000    0.000000  \n",
       "50%     32.000000                  0.372500   29.000000    0.000000  \n",
       "75%     36.600000                  0.626250   41.000000    1.000000  \n",
       "max     67.100000                  2.420000   81.000000    1.000000  "
      ]
     },
     "execution_count": 40,
     "metadata": {},
     "output_type": "execute_result"
    }
   ],
   "source": [
    "df.describe()"
   ]
  },
  {
   "cell_type": "code",
   "execution_count": 43,
   "id": "e41232b5-ff8b-422e-8db2-27fa957c1904",
   "metadata": {},
   "outputs": [
    {
     "data": {
      "text/plain": [
       "99.0"
      ]
     },
     "execution_count": 43,
     "metadata": {},
     "output_type": "execute_result"
    }
   ],
   "source": [
    "# Q1 (%25 Percentile Hesaplama)\n",
    "Q1 = df.Glucose.quantile(0.25)\n",
    "Q1"
   ]
  },
  {
   "cell_type": "code",
   "execution_count": 44,
   "id": "d33065ea-8b06-4d9b-83e3-1007f5893c78",
   "metadata": {},
   "outputs": [
    {
     "data": {
      "text/plain": [
       "140.25"
      ]
     },
     "execution_count": 44,
     "metadata": {},
     "output_type": "execute_result"
    }
   ],
   "source": [
    "# Q3 (%75 Percentile Hesaplama)\n",
    "Q3 = df.Glucose.quantile(0.75)\n",
    "Q3"
   ]
  },
  {
   "cell_type": "code",
   "execution_count": 46,
   "id": "54d1c344-a59b-4aa8-8150-a8bda3437468",
   "metadata": {},
   "outputs": [
    {
     "data": {
      "text/plain": [
       "41.25"
      ]
     },
     "execution_count": 46,
     "metadata": {},
     "output_type": "execute_result"
    }
   ],
   "source": [
    "IQR_Value = Q3 - Q1\n",
    "IQR_Value"
   ]
  },
  {
   "cell_type": "code",
   "execution_count": 47,
   "id": "c6880fc5-c13c-4627-af1f-3acb18a0d6dc",
   "metadata": {},
   "outputs": [],
   "source": [
    "# ALT LİMİT - ÜST LİMİT HESAPLAMA İŞLEMİ:"
   ]
  },
  {
   "cell_type": "code",
   "execution_count": 51,
   "id": "225182ea-88d9-4f15-9f43-de5e9b687f03",
   "metadata": {},
   "outputs": [
    {
     "data": {
      "text/plain": [
       "37.125"
      ]
     },
     "execution_count": 51,
     "metadata": {},
     "output_type": "execute_result"
    }
   ],
   "source": [
    "# ALT\n",
    "lower_limit = Q1 - 1.5*IQR_Value\n",
    "lower_limit"
   ]
  },
  {
   "cell_type": "code",
   "execution_count": 52,
   "id": "b38487c0-35c8-4fe0-9d1a-165dfd782611",
   "metadata": {},
   "outputs": [
    {
     "data": {
      "text/plain": [
       "202.125"
      ]
     },
     "execution_count": 52,
     "metadata": {},
     "output_type": "execute_result"
    }
   ],
   "source": [
    "# ÜST \n",
    "upper_limit = Q3 + 1.5*IQR_Value\n",
    "upper_limit"
   ]
  },
  {
   "cell_type": "code",
   "execution_count": 55,
   "id": "4e748b5f-b298-40b3-8ac0-6a64bb0e74fa",
   "metadata": {},
   "outputs": [
    {
     "data": {
      "text/html": [
       "<div>\n",
       "<style scoped>\n",
       "    .dataframe tbody tr th:only-of-type {\n",
       "        vertical-align: middle;\n",
       "    }\n",
       "\n",
       "    .dataframe tbody tr th {\n",
       "        vertical-align: top;\n",
       "    }\n",
       "\n",
       "    .dataframe thead th {\n",
       "        text-align: right;\n",
       "    }\n",
       "</style>\n",
       "<table border=\"1\" class=\"dataframe\">\n",
       "  <thead>\n",
       "    <tr style=\"text-align: right;\">\n",
       "      <th></th>\n",
       "      <th>Pregnancies</th>\n",
       "      <th>Glucose</th>\n",
       "      <th>BloodPressure</th>\n",
       "      <th>SkinThickness</th>\n",
       "      <th>Insulin</th>\n",
       "      <th>BMI</th>\n",
       "      <th>DiabetesPedigreeFunction</th>\n",
       "      <th>Age</th>\n",
       "      <th>Outcome</th>\n",
       "    </tr>\n",
       "  </thead>\n",
       "  <tbody>\n",
       "    <tr>\n",
       "      <th>0</th>\n",
       "      <td>6</td>\n",
       "      <td>148</td>\n",
       "      <td>72</td>\n",
       "      <td>35</td>\n",
       "      <td>0</td>\n",
       "      <td>33.6</td>\n",
       "      <td>0.627</td>\n",
       "      <td>50</td>\n",
       "      <td>1</td>\n",
       "    </tr>\n",
       "    <tr>\n",
       "      <th>1</th>\n",
       "      <td>1</td>\n",
       "      <td>85</td>\n",
       "      <td>66</td>\n",
       "      <td>29</td>\n",
       "      <td>0</td>\n",
       "      <td>26.6</td>\n",
       "      <td>0.351</td>\n",
       "      <td>31</td>\n",
       "      <td>0</td>\n",
       "    </tr>\n",
       "    <tr>\n",
       "      <th>2</th>\n",
       "      <td>8</td>\n",
       "      <td>183</td>\n",
       "      <td>64</td>\n",
       "      <td>0</td>\n",
       "      <td>0</td>\n",
       "      <td>23.3</td>\n",
       "      <td>0.672</td>\n",
       "      <td>32</td>\n",
       "      <td>1</td>\n",
       "    </tr>\n",
       "    <tr>\n",
       "      <th>3</th>\n",
       "      <td>1</td>\n",
       "      <td>89</td>\n",
       "      <td>66</td>\n",
       "      <td>23</td>\n",
       "      <td>94</td>\n",
       "      <td>28.1</td>\n",
       "      <td>0.167</td>\n",
       "      <td>21</td>\n",
       "      <td>0</td>\n",
       "    </tr>\n",
       "    <tr>\n",
       "      <th>4</th>\n",
       "      <td>0</td>\n",
       "      <td>137</td>\n",
       "      <td>40</td>\n",
       "      <td>35</td>\n",
       "      <td>168</td>\n",
       "      <td>43.1</td>\n",
       "      <td>2.288</td>\n",
       "      <td>33</td>\n",
       "      <td>1</td>\n",
       "    </tr>\n",
       "    <tr>\n",
       "      <th>...</th>\n",
       "      <td>...</td>\n",
       "      <td>...</td>\n",
       "      <td>...</td>\n",
       "      <td>...</td>\n",
       "      <td>...</td>\n",
       "      <td>...</td>\n",
       "      <td>...</td>\n",
       "      <td>...</td>\n",
       "      <td>...</td>\n",
       "    </tr>\n",
       "    <tr>\n",
       "      <th>763</th>\n",
       "      <td>10</td>\n",
       "      <td>101</td>\n",
       "      <td>76</td>\n",
       "      <td>48</td>\n",
       "      <td>180</td>\n",
       "      <td>32.9</td>\n",
       "      <td>0.171</td>\n",
       "      <td>63</td>\n",
       "      <td>0</td>\n",
       "    </tr>\n",
       "    <tr>\n",
       "      <th>764</th>\n",
       "      <td>2</td>\n",
       "      <td>122</td>\n",
       "      <td>70</td>\n",
       "      <td>27</td>\n",
       "      <td>0</td>\n",
       "      <td>36.8</td>\n",
       "      <td>0.340</td>\n",
       "      <td>27</td>\n",
       "      <td>0</td>\n",
       "    </tr>\n",
       "    <tr>\n",
       "      <th>765</th>\n",
       "      <td>5</td>\n",
       "      <td>121</td>\n",
       "      <td>72</td>\n",
       "      <td>23</td>\n",
       "      <td>112</td>\n",
       "      <td>26.2</td>\n",
       "      <td>0.245</td>\n",
       "      <td>30</td>\n",
       "      <td>0</td>\n",
       "    </tr>\n",
       "    <tr>\n",
       "      <th>766</th>\n",
       "      <td>1</td>\n",
       "      <td>126</td>\n",
       "      <td>60</td>\n",
       "      <td>0</td>\n",
       "      <td>0</td>\n",
       "      <td>30.1</td>\n",
       "      <td>0.349</td>\n",
       "      <td>47</td>\n",
       "      <td>1</td>\n",
       "    </tr>\n",
       "    <tr>\n",
       "      <th>767</th>\n",
       "      <td>1</td>\n",
       "      <td>93</td>\n",
       "      <td>70</td>\n",
       "      <td>31</td>\n",
       "      <td>0</td>\n",
       "      <td>30.4</td>\n",
       "      <td>0.315</td>\n",
       "      <td>23</td>\n",
       "      <td>0</td>\n",
       "    </tr>\n",
       "  </tbody>\n",
       "</table>\n",
       "<p>763 rows × 9 columns</p>\n",
       "</div>"
      ],
      "text/plain": [
       "     Pregnancies  Glucose  BloodPressure  SkinThickness  Insulin   BMI  \\\n",
       "0              6      148             72             35        0  33.6   \n",
       "1              1       85             66             29        0  26.6   \n",
       "2              8      183             64              0        0  23.3   \n",
       "3              1       89             66             23       94  28.1   \n",
       "4              0      137             40             35      168  43.1   \n",
       "..           ...      ...            ...            ...      ...   ...   \n",
       "763           10      101             76             48      180  32.9   \n",
       "764            2      122             70             27        0  36.8   \n",
       "765            5      121             72             23      112  26.2   \n",
       "766            1      126             60              0        0  30.1   \n",
       "767            1       93             70             31        0  30.4   \n",
       "\n",
       "     DiabetesPedigreeFunction  Age  Outcome  \n",
       "0                       0.627   50        1  \n",
       "1                       0.351   31        0  \n",
       "2                       0.672   32        1  \n",
       "3                       0.167   21        0  \n",
       "4                       2.288   33        1  \n",
       "..                        ...  ...      ...  \n",
       "763                     0.171   63        0  \n",
       "764                     0.340   27        0  \n",
       "765                     0.245   30        0  \n",
       "766                     0.349   47        1  \n",
       "767                     0.315   23        0  \n",
       "\n",
       "[763 rows x 9 columns]"
      ]
     },
     "execution_count": 55,
     "metadata": {},
     "output_type": "execute_result"
    }
   ],
   "source": [
    "# Outiller değerlerimizin çıkarılması, yeni bir değişken ile temiz dataframemizi görüntülüyoruz.\n",
    "df1 = df[(df.Glucose > lower_limit) & (df.Glucose < upper_limit)]\n",
    "df1"
   ]
  },
  {
   "cell_type": "markdown",
   "id": "a6c0c125-f310-45af-b4fd-9332eeb2e613",
   "metadata": {},
   "source": [
    "#### Yukarıda gözlemlendiği üzere;\n",
    "* 768 gözlem biriminden sadece 5 gözlem birimi aykırı değere sahip olduğu anlaşılmıştır. (Çok büyük bir oran değil) Ancak makine öğrenmesi modelinde kullanacağımız algoritmada, modelimizin doğru veriler ile eğitilmesi önemli. (Tedbiri elden bırakmayıp, aykırı değeleri dış safhada bıraktık. Aksi takdirde yüksek miktarda aykırı değere sahip olsaydık emeğimiz çöp olabilirdi. Yüksek miktarda aykırı değeri makine öğrenmesi modelinde train set olarak kullanmış olsak,modelimiz yanlış sonuçlar üretirdi. Bu nedenle makine öğrenmesi sürecinde dikkat edilmesi gereken bir diğer konu ise train set & test set olarak kullanılacak verilerin random bir şekilde seçilmiş olması gerekir. )"
   ]
  },
  {
   "cell_type": "code",
   "execution_count": null,
   "id": "04af34db-ab83-4990-919d-ff6a73dcace4",
   "metadata": {},
   "outputs": [
    {
     "name": "stdout",
     "output_type": "stream",
     "text": [
      "Requirement already satisfied: sklearn in /Users/koc/opt/anaconda3/lib/python3.9/site-packages (0.0)\n",
      "Requirement already satisfied: scikit-learn in /Users/koc/opt/anaconda3/lib/python3.9/site-packages (from sklearn) (1.0.2)\n",
      "Requirement already satisfied: scipy>=1.1.0 in /Users/koc/opt/anaconda3/lib/python3.9/site-packages (from scikit-learn->sklearn) (1.8.0)\n",
      "Requirement already satisfied: threadpoolctl>=2.0.0 in /Users/koc/opt/anaconda3/lib/python3.9/site-packages (from scikit-learn->sklearn) (3.1.0)\n",
      "Requirement already satisfied: numpy>=1.14.6 in /Users/koc/opt/anaconda3/lib/python3.9/site-packages (from scikit-learn->sklearn) (1.22.2)\n",
      "Requirement already satisfied: joblib>=0.11 in /Users/koc/opt/anaconda3/lib/python3.9/site-packages (from scikit-learn->sklearn) (1.1.0)\n"
     ]
    }
   ],
   "source": [
    "!pip3 install sklearn"
   ]
  },
  {
   "cell_type": "markdown",
   "id": "fc0962d4-35b0-4fc5-b5f5-7ebda3510ca5",
   "metadata": {},
   "source": [
    "---"
   ]
  },
  {
   "cell_type": "code",
   "execution_count": 120,
   "id": "27e36287-b319-466a-a4c5-1df5c65861c1",
   "metadata": {},
   "outputs": [],
   "source": [
    "# df1.Outcome = 1 // Şeker Hastalığına Yakalanmış \n",
    "# df1.Outcome = 0 // Şeker Hastalığına Yakalanmamış (Sağlıklı)\n",
    "# Bu durumda outcome değişkeni bağımlı değişken (dependent variable), geriye kalan değişkenlerimiz ise bağımsız (independent variable) oluyor."
   ]
  },
  {
   "cell_type": "code",
   "execution_count": 122,
   "id": "aa7e88f5-d450-4e4b-9a2a-82159253f584",
   "metadata": {},
   "outputs": [
    {
     "data": {
      "text/plain": [
       "<seaborn.axisgrid.FacetGrid at 0x7ff4c1f510a0>"
      ]
     },
     "execution_count": 122,
     "metadata": {},
     "output_type": "execute_result"
    },
    {
     "data": {
      "image/png": "[encoded data removed]",
      "text/plain": [
       "<Figure size 413.25x360 with 1 Axes>"
      ]
     },
     "metadata": {
      "needs_background": "light"
     },
     "output_type": "display_data"
    }
   ],
   "source": [
    "# STEP-4: Gözlemlemek amacıyla veri görselleştirme operasyonu; \n",
    "\n",
    "sns.relplot(data=df1,x=\"Age\", y=\"Glucose\", hue = \"Outcome\")\n",
    "\n",
    "# Aşağısı gözlemlendiği vakit; Glukoz, Yaş aralığına ve hasta olan ve olmayanlara bakıldığında birçok yorum çıkarılabilir.\n",
    "# Data Literacy yeteneğinize bağlı kalarak yorumda bulunabilirsiniz. "
   ]
  },
  {
   "cell_type": "markdown",
   "id": "971dc032-b754-4cd9-8250-4f81d6a05bfc",
   "metadata": {},
   "source": [
    "## STEP-5: K-Nearest Neighbors Algoritması için ham verileri oluşturmak ve normalizasyon işlemi\n",
    "---\n",
    "* **5.Adımı anlamayanlar için:** Tercih etmiş olduğum algoritma K-En Yakın komuş algoritması bağımsız değişkenler üzerinde gruplandırma işlemi uygulayacaktır. (Pandas'taki groupBy metodu gibi düşünülebilir.) , Ham verileri bağımsız değişkenlerden oluşturduktan sonra normalizasyon işlemi uygulanacak: Güncelleme işlemi olarak düşünülebilir. Normalizasyon uygulanmadığı takdirde, yapay zeka modelimiz yanlış sonuçlar üretecektir. Normalizasyon sonucunda ortaya çıkan veriler ile modelin eğitilmesi için kullanılacaktır. "
   ]
  },
  {
   "cell_type": "code",
   "execution_count": 123,
   "id": "7bada7b7-2768-4e61-acd6-b5c0b9979f1b",
   "metadata": {},
   "outputs": [],
   "source": [
    "ksy = df1.Outcome.values"
   ]
  },
  {
   "cell_type": "code",
   "execution_count": 126,
   "id": "669d5c72-bfea-4873-a82c-77c55ffe7b93",
   "metadata": {},
   "outputs": [],
   "source": [
    "# Remove dependent variable for master data (Ana/Ham veriler için bağımlı değişkeni kaldırmak)\n",
    "master_data = df1.drop([\"Outcome\"], axis = 1)"
   ]
  },
  {
   "cell_type": "code",
   "execution_count": 128,
   "id": "c2d39cb4-a5b7-4f11-88bc-806f74824219",
   "metadata": {},
   "outputs": [],
   "source": [
    "# Normalization / Normalizasyon \n",
    "rez = (master_data - np.min(master_data)) / (np.max(master_data) - np.min(master_data))"
   ]
  },
  {
   "cell_type": "code",
   "execution_count": 145,
   "id": "66277ad2-9958-4868-9c4a-e70dd9c2f5b4",
   "metadata": {},
   "outputs": [
    {
     "name": "stdout",
     "output_type": "stream",
     "text": [
      "Before normalization :\n",
      "--------------------------------------------------------------------\n",
      "   Pregnancies  Glucose  BloodPressure  SkinThickness  Insulin   BMI  \\\n",
      "0            6      148             72             35        0  33.6   \n",
      "1            1       85             66             29        0  26.6   \n",
      "2            8      183             64              0        0  23.3   \n",
      "3            1       89             66             23       94  28.1   \n",
      "4            0      137             40             35      168  43.1   \n",
      "\n",
      "   DiabetesPedigreeFunction  Age  \n",
      "0                     0.627   50  \n",
      "1                     0.351   31  \n",
      "2                     0.672   32  \n",
      "3                     0.167   21  \n",
      "4                     2.288   33  \n",
      "\n",
      "\n",
      "After Normalization :\n",
      "--------------------------------------------------------------------------\n",
      "   Pregnancies   Glucose  BloodPressure  SkinThickness   Insulin       BMI  \\\n",
      "0     0.352941  0.670968       0.590164       0.353535  0.000000  0.500745   \n",
      "1     0.058824  0.264516       0.540984       0.292929  0.000000  0.396423   \n",
      "2     0.470588  0.896774       0.524590       0.000000  0.000000  0.347243   \n",
      "3     0.058824  0.290323       0.540984       0.232323  0.111111  0.418778   \n",
      "4     0.000000  0.600000       0.327869       0.353535  0.198582  0.642325   \n",
      "\n",
      "   DiabetesPedigreeFunction       Age  \n",
      "0                  0.234415  0.483333  \n",
      "1                  0.116567  0.166667  \n",
      "2                  0.253629  0.183333  \n",
      "3                  0.038002  0.000000  \n",
      "4                  0.943638  0.200000  \n"
     ]
    }
   ],
   "source": [
    "# Gözlemlemek : \n",
    "\n",
    "print(\"Before normalization :\")\n",
    "print(\"--------------------------------------------------------------------\")\n",
    "print(master_data.head())\n",
    "print(\"\\n\")\n",
    "print(\"After Normalization :\")\n",
    "print(\"--------------------------------------------------------------------------\")\n",
    "print(rez.head())\n",
    "\n"
   ]
  },
  {
   "cell_type": "markdown",
   "id": "4a38fcbc-a4fb-40f0-8c9a-15cd6c51d617",
   "metadata": {},
   "source": [
    "----"
   ]
  },
  {
   "cell_type": "markdown",
   "id": "2a6c7317-717e-4d84-9a7b-5bf90f92dbcb",
   "metadata": {},
   "source": [
    "## STEP-6: Train Data - Test Data Oluşturmak \n",
    "---\n",
    "* **6.Adımı anlamayanlar için:** train_test_split fonksiyonun ilk parametresine normalize edilen verileri, ikinci parametreye df1.Outcome (hastalık durumunu) , üçüncü parametre ; test_size = 0.20 ise , test edilecek verinin miktarını belirtilmekte (%20 olacak biçimde) , son parametre ; random_state = True ise , verileri rastgele tercih etmek.  \n",
    "* **Train data:** Modelin eğitilmesi için kullanılacak olan veriler\n",
    "* **Test data:** Modelin test edilmesi için kullanılacak olan veriler "
   ]
  },
  {
   "cell_type": "code",
   "execution_count": 202,
   "id": "760948a2-f091-4eed-b25f-32539d7455b5",
   "metadata": {},
   "outputs": [],
   "source": [
    "t_train, t_test, k_train, k_test = train_test_split(rez,ksy, test_size = 0.5 , random_state = True)\n"
   ]
  },
  {
   "cell_type": "markdown",
   "id": "96154d45-ba8e-4e61-9c79-490a14af6e9a",
   "metadata": {},
   "source": [
    "## STEP-7: KNN Modeli Oluşturmak , Eğitmek , Test Etmek & Son Olarak Sonucu Gözlemlemek: (Result For K-Nearest Neighbors Algorithm)"
   ]
  },
  {
   "cell_type": "markdown",
   "id": "dbecb45e-45ca-4e59-b33d-d033a7c18e20",
   "metadata": {},
   "source": [
    "---"
   ]
  },
  {
   "cell_type": "code",
   "execution_count": 204,
   "id": "a975f07f-62a2-49f3-b687-7fe6cf5c431b",
   "metadata": {},
   "outputs": [
    {
     "name": "stdout",
     "output_type": "stream",
     "text": [
      "Result For K-Nearest Neighbors :  0.7591623036649214\n"
     ]
    }
   ],
   "source": [
    "KNN_Algorithm_Model = KNeighborsClassifier(n_neighbors = 7) # = k? ... En yakın komşular gözlemlenir. (Belirtilen sayı kadar...)\n",
    "KNN_Algorithm_Model.fit(t_train, k_train) # Train data'lar ile K-NN Modelin eğitilmesi\n",
    "hypothesis = KNN_Algorithm_Model.predict(t_test) # Prediction - Tahmin fonksiyonuna t_test verilerin girilmesi (%20'lik olan veriler)\n",
    "\n",
    "print(\"Result For K-Nearest Neighbors : \", KNN_Algorithm_Model.score(t_test, k_test))"
   ]
  },
  {
   "cell_type": "code",
   "execution_count": null,
   "id": "e4d91c68-cf64-4358-9a2a-ff52185aca16",
   "metadata": {},
   "outputs": [],
   "source": []
  },
  {
   "cell_type": "code",
   "execution_count": null,
   "id": "acad098e-7d29-48ee-8d9f-a2d097deb76e",
   "metadata": {},
   "outputs": [],
   "source": []
  }
 ],
 "metadata": {
  "kernelspec": {
   "display_name": "Python 3 (ipykernel)",
   "language": "python",
   "name": "python3"
  },
  "language_info": {
   "codemirror_mode": {
    "name": "ipython",
    "version": 3
   },
   "file_extension": ".py",
   "mimetype": "text/x-python",
   "name": "python",
   "nbconvert_exporter": "python",
   "pygments_lexer": "ipython3",
   "version": "3.9.7"
  }
 },
 "nbformat": 4,
 "nbformat_minor": 5
}
